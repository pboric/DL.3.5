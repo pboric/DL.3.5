{
 "cells": [
  {
   "cell_type": "markdown",
   "metadata": {},
   "source": [
    " # Improved Multi-Task Face Analysis: Age and Gender Prediction (v2)\n",
    "\n",
    "\n",
    "\n",
    " Improvements in this version:\n",
    "\n",
    " 1. Enhanced loss weighting for underrepresented age groups\n",
    "\n",
    " 2. Advanced data augmentation pipeline\n",
    "\n",
    " 3. Ensemble models for different age ranges\n",
    "\n",
    " 4. Confidence-based prediction\n",
    "\n",
    " 5. Synthetic data generation using image augmentation\n",
    "\n",
    "\n",
    "\n",
    " ## 1. Imports and Setup"
   ]
  },
  {
   "cell_type": "code",
   "execution_count": null,
   "metadata": {},
   "outputs": [
    {
     "name": "stdout",
     "output_type": "stream",
     "text": [
      "Using device: cuda\n"
     ]
    },
    {
     "name": "stderr",
     "output_type": "stream",
     "text": [
      "c:\\Users\\kresi\\AppData\\Local\\Programs\\Python\\Python310\\lib\\site-packages\\albumentations\\__init__.py:24: UserWarning: A new version of Albumentations is available: 1.4.21 (you have 1.4.20). Upgrade using: pip install -U albumentations. To disable automatic update checks, set the environment variable NO_ALBUMENTATIONS_UPDATE to 1.\n",
      "  check_for_updates()\n"
     ]
    }
   ],
   "source": [
    "import torch\n",
    "import torch.nn as nn\n",
    "import torch.optim as optim\n",
    "from torch.optim.lr_scheduler import CosineAnnealingWarmRestarts\n",
    "from torch.utils.data import Dataset, DataLoader\n",
    "from torchvision import transforms\n",
    "import torchvision.transforms.functional as TF\n",
    "from PIL import Image\n",
    "import pandas as pd\n",
    "import numpy as np\n",
    "from pathlib import Path\n",
    "from sklearn.model_selection import train_test_split\n",
    "import matplotlib.pyplot as plt\n",
    "from tqdm import tqdm\n",
    "import random\n",
    "import albumentations as A\n",
    "from albumentations.pytorch import ToTensorV2\n",
    "import cv2\n",
    "\n",
    "torch.manual_seed(42)\n",
    "np.random.seed(42)\n",
    "random.seed(42)\n",
    "\n",
    "device = torch.device('cuda' if torch.cuda.is_available() else 'cpu')\n",
    "print(f\"Using device: {device}\")\n"
   ]
  },
  {
   "cell_type": "markdown",
   "metadata": {},
   "source": [
    "## 2. Data Parsing Functions"
   ]
  },
  {
   "cell_type": "code",
   "execution_count": null,
   "metadata": {},
   "outputs": [],
   "source": [
    "def parse_filepath(filepath):\n",
    "    \"\"\"Parse UTKFace filepath to extract age, gender, and race information\"\"\"\n",
    "    try:\n",
    "        filename = filepath.stem\n",
    "        age, gender, race, _ = filename.split('_')\n",
    "        return {\n",
    "            'filepath': str(filepath),\n",
    "            'age': int(age),\n",
    "            'gender': int(gender),  # 0: male, 1: female\n",
    "            'race': int(race)\n",
    "        }\n",
    "    except Exception as e:\n",
    "        print(f\"Error parsing {filepath}: {str(e)}\")\n",
    "        return None\n",
    "\n",
    "def create_dataset_df(data_dir):\n",
    "    \"\"\"Create a DataFrame with image metadata\"\"\"\n",
    "    print(f\"Scanning directory: {data_dir}\")\n",
    "    \n",
    "    data_dir = Path(data_dir)\n",
    "    \n",
    "    if not data_dir.exists():\n",
    "        raise FileNotFoundError(f\"Directory not found: {data_dir}\")\n",
    "    \n",
    "    image_paths = list(data_dir.glob('*.jpg'))\n",
    "    \n",
    "    if not image_paths:\n",
    "        raise ValueError(f\"No jpg files found in {data_dir}\")\n",
    "    \n",
    "    print(f\"Found {len(image_paths)} images. Parsing metadata...\")\n",
    "    \n",
    "    records = []\n",
    "    for filepath in tqdm(image_paths, desc=\"Parsing images\"):\n",
    "        record = parse_filepath(filepath)\n",
    "        if record:\n",
    "            records.append(record)\n",
    "    \n",
    "    df = pd.DataFrame(records)\n",
    "    \n",
    "    print(\"\\nDataset statistics:\")\n",
    "    print(f\"Total valid images: {len(df)}\")\n",
    "    print(f\"Age range: {df['age'].min()} to {df['age'].max()} years\")\n",
    "    print(f\"Gender distribution: \\n{df['gender'].value_counts(normalize=True).round(3)}\")\n",
    "    \n",
    "    return df"
   ]
  },
  {
   "cell_type": "markdown",
   "metadata": {},
   "source": [
    " ## 3. Enhanced Data Processing"
   ]
  },
  {
   "cell_type": "code",
   "execution_count": null,
   "metadata": {},
   "outputs": [],
   "source": [
    "def create_age_groups(age):\n",
    "    \"\"\"Create age groups for specialized models\"\"\"\n",
    "    if age < 20:\n",
    "        return 'young'\n",
    "    elif age < 40:\n",
    "        return 'adult'\n",
    "    elif age < 60:\n",
    "        return 'middle'\n",
    "    else:\n",
    "        return 'elderly'\n",
    "\n",
    "class EnhancedAgeGenderDataset(Dataset):\n",
    "    \"\"\"Enhanced dataset with advanced augmentation and balancing\"\"\"\n",
    "    def __init__(self, df, transform=None, augment=False, synthetic_augment=False):\n",
    "        self.df = df.reset_index(drop=True)\n",
    "        self.transform = transform\n",
    "        self.augment = augment\n",
    "        self.synthetic_augment = synthetic_augment\n",
    "        \n",
    "        self.df['age_group'] = self.df['age'].apply(create_age_groups)\n",
    "        \n",
    "        self._calculate_weights()\n",
    "        \n",
    "        if synthetic_augment:\n",
    "            self.synthetic_aug = A.Compose([\n",
    "                A.HorizontalFlip(p=0.5),\n",
    "                A.OneOf([\n",
    "                    A.GaussNoise(var_limit=(10, 50)),\n",
    "                    A.GaussianBlur(blur_limit=(3, 7)),\n",
    "                    A.MotionBlur(blur_limit=(3, 7)),\n",
    "                ], p=0.5),\n",
    "                A.OneOf([\n",
    "                    A.RandomBrightnessContrast(\n",
    "                        brightness_limit=0.2, \n",
    "                        contrast_limit=0.2\n",
    "                    ),\n",
    "                    A.HueSaturationValue(\n",
    "                        hue_shift_limit=20,\n",
    "                        sat_shift_limit=30,\n",
    "                        val_shift_limit=20\n",
    "                    ),\n",
    "                ], p=0.5),\n",
    "                A.OneOf([\n",
    "                    A.ElasticTransform(\n",
    "                        alpha=120, \n",
    "                        sigma=120 * 0.05, \n",
    "                        alpha_affine=120 * 0.03\n",
    "                    ),\n",
    "                    A.GridDistortion(),\n",
    "                    A.OpticalDistortion(\n",
    "                        distort_limit=1.0,\n",
    "                        shift_limit=0.5\n",
    "                    ),\n",
    "                ], p=0.3),\n",
    "                A.ShiftScaleRotate(\n",
    "                    shift_limit=0.1,\n",
    "                    scale_limit=0.2,\n",
    "                    rotate_limit=30,\n",
    "                    border_mode=cv2.BORDER_CONSTANT,\n",
    "                    p=0.5\n",
    "                ),\n",
    "            ])\n",
    "    \n",
    "    def _calculate_weights(self):\n",
    "        \"\"\"Calculate sample weights for balanced sampling\"\"\"\n",
    "        age_group_counts = self.df['age_group'].value_counts()\n",
    "        max_age_count = age_group_counts.max()\n",
    "        self.age_weights = dict(zip(\n",
    "            age_group_counts.index,\n",
    "            max_age_count / age_group_counts\n",
    "        ))\n",
    "        \n",
    "        self.gender_weights = {}\n",
    "        for age_group in age_group_counts.index:\n",
    "            group_df = self.df[self.df['age_group'] == age_group]\n",
    "            gender_counts = group_df['gender'].value_counts()\n",
    "            max_gender_count = gender_counts.max()\n",
    "            self.gender_weights[age_group] = dict(zip(\n",
    "                gender_counts.index,\n",
    "                max_gender_count / gender_counts\n",
    "            ))\n",
    "    \n",
    "    def _get_sample_weight(self, idx):\n",
    "        \"\"\"Get combined weight for a sample\"\"\"\n",
    "        age_group = self.df.iloc[idx]['age_group']\n",
    "        gender = self.df.iloc[idx]['gender']\n",
    "        return self.age_weights[age_group] * self.gender_weights[age_group][gender]\n",
    "    \n",
    "    def _synthetic_augment(self, image):\n",
    "        \"\"\"Apply synthetic augmentation to image\"\"\"\n",
    "        if isinstance(image, Image.Image):\n",
    "            image = np.array(image)\n",
    "        elif isinstance(image, torch.Tensor):\n",
    "            image = image.numpy().transpose(1, 2, 0)\n",
    "            image = (image * 255).astype(np.uint8)\n",
    "        \n",
    "        augmented = self.synthetic_aug(image=image)['image']\n",
    "        return Image.fromarray(augmented)\n",
    "    \n",
    "    def __len__(self):\n",
    "        return len(self.df)\n",
    "    \n",
    "    def __getitem__(self, idx):\n",
    "        img_path = self.df.iloc[idx]['filepath']\n",
    "        image = Image.open(img_path).convert('RGB')\n",
    "        \n",
    "        age = self.df.iloc[idx]['age']\n",
    "        gender = self.df.iloc[idx]['gender']\n",
    "        age_group = self.df.iloc[idx]['age_group']\n",
    "        \n",
    "        if self.synthetic_augment and random.random() < 0.5:\n",
    "            image = self._synthetic_augment(image)\n",
    "        \n",
    "        if self.transform:\n",
    "            image = self.transform(image)\n",
    "        \n",
    "        age_normalized = torch.tensor(age/116.0, dtype=torch.float32)\n",
    "        gender = torch.tensor(gender, dtype=torch.long)\n",
    "        \n",
    "        weight = torch.tensor(self._get_sample_weight(idx), dtype=torch.float32)\n",
    "        \n",
    "        return image, age_normalized, gender, weight, age_group"
   ]
  },
  {
   "cell_type": "markdown",
   "metadata": {},
   "source": [
    " ## 4. Improved Model Architecture"
   ]
  },
  {
   "cell_type": "code",
   "execution_count": null,
   "metadata": {},
   "outputs": [],
   "source": [
    "class AgeGenderEnsemble(nn.Module):\n",
    "    \"\"\"Ensemble model with specialized branches\"\"\"\n",
    "    def __init__(self, dropout_rate=0.5):\n",
    "        super(AgeGenderEnsemble, self).__init__()\n",
    "        \n",
    "        self.features = nn.Sequential(\n",
    "            self._make_layer(3, 64),\n",
    "            self._make_layer(64, 128),\n",
    "            self._make_layer(128, 256),\n",
    "            self._make_layer(256, 512),\n",
    "        )\n",
    "        \n",
    "        self.age_branches = nn.ModuleDict({\n",
    "            'young': self._make_age_branch(dropout_rate),\n",
    "            'adult': self._make_age_branch(dropout_rate),\n",
    "            'middle': self._make_age_branch(dropout_rate),\n",
    "            'elderly': self._make_age_branch(dropout_rate)\n",
    "        })\n",
    "        \n",
    "        self.gender_branches = nn.ModuleDict({\n",
    "            'young': self._make_gender_branch(dropout_rate),\n",
    "            'adult': self._make_gender_branch(dropout_rate),\n",
    "            'middle': self._make_gender_branch(dropout_rate),\n",
    "            'elderly': self._make_gender_branch(dropout_rate)\n",
    "        })\n",
    "        \n",
    "        self.age_confidence = nn.Sequential(\n",
    "            nn.AdaptiveAvgPool2d((1, 1)),\n",
    "            nn.Flatten(),\n",
    "            nn.Linear(512, 256),\n",
    "            nn.ReLU(),\n",
    "            nn.Dropout(dropout_rate),\n",
    "            nn.Linear(256, 1),\n",
    "            nn.Sigmoid()\n",
    "        )\n",
    "        \n",
    "        self.gender_confidence = nn.Sequential(\n",
    "            nn.AdaptiveAvgPool2d((1, 1)),\n",
    "            nn.Flatten(),\n",
    "            nn.Linear(512, 256),\n",
    "            nn.ReLU(),\n",
    "            nn.Dropout(dropout_rate),\n",
    "            nn.Linear(256, 1),\n",
    "            nn.Sigmoid()\n",
    "        )\n",
    "    \n",
    "    def _make_layer(self, in_channels, out_channels):\n",
    "        return nn.Sequential(\n",
    "            nn.Conv2d(in_channels, out_channels, 3, padding=1),\n",
    "            nn.BatchNorm2d(out_channels),\n",
    "            nn.ReLU(inplace=True),\n",
    "            nn.Conv2d(out_channels, out_channels, 3, padding=1),\n",
    "            nn.BatchNorm2d(out_channels),\n",
    "            nn.ReLU(inplace=True),\n",
    "            nn.MaxPool2d(2, 2)\n",
    "        )\n",
    "    \n",
    "    def _make_age_branch(self, dropout_rate):\n",
    "        return nn.Sequential(\n",
    "            nn.AdaptiveAvgPool2d((1, 1)),\n",
    "            nn.Flatten(),\n",
    "            nn.Linear(512, 256),\n",
    "            nn.ReLU(),\n",
    "            nn.Dropout(dropout_rate),\n",
    "            nn.Linear(256, 1),\n",
    "            nn.Sigmoid()\n",
    "        )\n",
    "    \n",
    "    def _make_gender_branch(self, dropout_rate):\n",
    "        return nn.Sequential(\n",
    "            nn.AdaptiveAvgPool2d((1, 1)),\n",
    "            nn.Flatten(),\n",
    "            nn.Linear(512, 256),\n",
    "            nn.ReLU(),\n",
    "            nn.Dropout(dropout_rate),\n",
    "            nn.Linear(256, 2)\n",
    "        )\n",
    "    \n",
    "    def forward(self, x, age_groups):\n",
    "        features = self.features(x)\n",
    "        batch_size = x.size(0)\n",
    "        \n",
    "        age_preds = []\n",
    "        gender_preds = []\n",
    "        age_confs = []\n",
    "        gender_confs = []\n",
    "        \n",
    "        for i in range(batch_size):\n",
    "            age_group = age_groups[i]\n",
    "            feat = features[i:i+1]\n",
    "            \n",
    "            age_pred = self.age_branches[age_group](feat)\n",
    "            gender_pred = self.gender_branches[age_group](feat)\n",
    "            \n",
    "            age_conf = self.age_confidence(feat)\n",
    "            gender_conf = self.gender_confidence(feat)\n",
    "            \n",
    "            age_preds.append(age_pred)\n",
    "            gender_preds.append(gender_pred)\n",
    "            age_confs.append(age_conf)\n",
    "            gender_confs.append(gender_conf)\n",
    "        \n",
    "        age_preds = torch.cat(age_preds, dim=0)\n",
    "        gender_preds = torch.cat(gender_preds, dim=0)\n",
    "        age_confs = torch.cat(age_confs, dim=0)\n",
    "        gender_confs = torch.cat(gender_confs, dim=0)\n",
    "        \n",
    "        return age_preds, gender_preds, age_confs, gender_confs"
   ]
  },
  {
   "cell_type": "markdown",
   "metadata": {},
   "source": [
    " ## 5. Enhanced Loss Function"
   ]
  },
  {
   "cell_type": "code",
   "execution_count": null,
   "metadata": {},
   "outputs": [],
   "source": [
    "class EnhancedMultiTaskLoss(nn.Module):\n",
    "    \"\"\"Enhanced loss function with confidence weighting\"\"\"\n",
    "    def __init__(self, age_weight=1.0, gender_weight=1.0):\n",
    "        super(EnhancedMultiTaskLoss, self).__init__()\n",
    "        self.age_criterion = nn.MSELoss(reduction='none')\n",
    "        self.gender_criterion = nn.CrossEntropyLoss(reduction='none')\n",
    "        self.confidence_criterion = nn.BCELoss(reduction='mean')\n",
    "        self.age_weight = age_weight\n",
    "        self.gender_weight = gender_weight\n",
    "    \n",
    "    def forward(self, age_pred, age_true, gender_pred, gender_true, \n",
    "               age_conf, gender_conf, sample_weights):\n",
    "        device = age_pred.device\n",
    "        age_true = age_true.to(device)\n",
    "        gender_true = gender_true.to(device)\n",
    "        sample_weights = sample_weights.to(device)\n",
    "        \n",
    "        age_loss = self.age_criterion(age_pred.squeeze(), age_true)\n",
    "        weighted_age_loss = (age_loss * sample_weights).mean()\n",
    "        \n",
    "        gender_loss = self.gender_criterion(gender_pred, gender_true)\n",
    "        weighted_gender_loss = (gender_loss * sample_weights).mean()\n",
    "        \n",
    "        age_conf_target = torch.exp(-age_loss.detach()).clamp(1e-7, 1-1e-7)\n",
    "        gender_conf_target = torch.exp(-gender_loss.detach()).clamp(1e-7, 1-1e-7)\n",
    "        \n",
    "        age_conf = age_conf.squeeze().clamp(1e-7, 1-1e-7)\n",
    "        gender_conf = gender_conf.squeeze().clamp(1e-7, 1-1e-7)\n",
    "        \n",
    "        conf_loss = (self.confidence_criterion(age_conf, age_conf_target) + \n",
    "                    self.confidence_criterion(gender_conf, gender_conf_target)) / 2\n",
    "        \n",
    "        total_loss = (self.age_weight * weighted_age_loss + \n",
    "                     self.gender_weight * weighted_gender_loss + \n",
    "                     0.1 * conf_loss)\n",
    "        \n",
    "        return total_loss, weighted_age_loss, weighted_gender_loss, conf_loss"
   ]
  },
  {
   "cell_type": "markdown",
   "metadata": {},
   "source": [
    " ## 6. Training Functions"
   ]
  },
  {
   "cell_type": "code",
   "execution_count": null,
   "metadata": {},
   "outputs": [],
   "source": [
    "def train_model_v2(model, train_loader, val_loader, criterion, device, num_epochs=30):\n",
    "    \"\"\"Enhanced training function with confidence tracking\"\"\"\n",
    "    model = model.to(device)\n",
    "    optimizer = optim.AdamW(model.parameters(), lr=0.001, weight_decay=0.01)\n",
    "    scheduler = CosineAnnealingWarmRestarts(\n",
    "        optimizer, \n",
    "        T_0=5,\n",
    "        T_mult=2\n",
    "    )\n",
    "    \n",
    "    best_val_loss = float('inf')\n",
    "    patience = 7\n",
    "    patience_counter = 0\n",
    "    \n",
    "    history = {\n",
    "        'train_loss': [], 'val_loss': [],\n",
    "        'train_age_loss': [], 'val_age_loss': [],\n",
    "        'train_gender_loss': [], 'val_gender_loss': [],\n",
    "        'train_conf_loss': [], 'val_conf_loss': []\n",
    "    }\n",
    "    \n",
    "    for epoch in range(num_epochs):\n",
    "        model.train()\n",
    "        train_metrics = {\n",
    "            'total_loss': 0.0,\n",
    "            'age_loss': 0.0,\n",
    "            'gender_loss': 0.0,\n",
    "            'conf_loss': 0.0\n",
    "        }\n",
    "        \n",
    "        for i, (images, ages, genders, weights, age_groups) in enumerate(\n",
    "            tqdm(train_loader, desc=f'Epoch {epoch+1}/{num_epochs}')):\n",
    "            \n",
    "            try:\n",
    "                images = images.to(device)\n",
    "                ages = ages.to(device)\n",
    "                genders = genders.to(device)\n",
    "                weights = weights.to(device)\n",
    "                \n",
    "                optimizer.zero_grad()\n",
    "                \n",
    "                age_pred, gender_pred, age_conf, gender_conf = model(images, age_groups)\n",
    "                \n",
    "                loss, age_loss, gender_loss, conf_loss = criterion(\n",
    "                    age_pred, ages, gender_pred, genders,\n",
    "                    age_conf, gender_conf, weights\n",
    "                )\n",
    "                \n",
    "                loss.backward()\n",
    "                torch.nn.utils.clip_grad_norm_(model.parameters(), max_norm=1.0)\n",
    "                optimizer.step()\n",
    "                \n",
    "                train_metrics['total_loss'] += loss.item()\n",
    "                train_metrics['age_loss'] += age_loss.item()\n",
    "                train_metrics['gender_loss'] += gender_loss.item()\n",
    "                train_metrics['conf_loss'] += conf_loss.item()\n",
    "                \n",
    "            except Exception as e:\n",
    "                print(f\"Error in batch {i}: {str(e)}\")\n",
    "                continue\n",
    "        \n",
    "        model.eval()\n",
    "        val_metrics = {\n",
    "            'total_loss': 0.0,\n",
    "            'age_loss': 0.0,\n",
    "            'gender_loss': 0.0,\n",
    "            'conf_loss': 0.0\n",
    "        }\n",
    "        \n",
    "        with torch.no_grad():\n",
    "            for images, ages, genders, weights, age_groups in val_loader:\n",
    "                images = images.to(device)\n",
    "                ages = ages.to(device)\n",
    "                genders = genders.to(device)\n",
    "                weights = weights.to(device)\n",
    "                \n",
    "                age_pred, gender_pred, age_conf, gender_conf = model(images, age_groups)\n",
    "                \n",
    "                loss, age_loss, gender_loss, conf_loss = criterion(\n",
    "                    age_pred, ages, gender_pred, genders,\n",
    "                    age_conf, gender_conf, weights\n",
    "                )\n",
    "                \n",
    "                val_metrics['total_loss'] += loss.item()\n",
    "                val_metrics['age_loss'] += age_loss.item()\n",
    "                val_metrics['gender_loss'] += gender_loss.item()\n",
    "                val_metrics['conf_loss'] += conf_loss.item()\n",
    "        \n",
    "        for phase in ['train', 'val']:\n",
    "            metrics = train_metrics if phase == 'train' else val_metrics\n",
    "            loader_len = len(train_loader) if phase == 'train' else len(val_loader)\n",
    "            \n",
    "            for key, value in metrics.items():\n",
    "                metrics[key] = value / loader_len\n",
    "            \n",
    "            history[f'{phase}_loss'].append(metrics['total_loss'])\n",
    "            history[f'{phase}_age_loss'].append(metrics['age_loss'])\n",
    "            history[f'{phase}_gender_loss'].append(metrics['gender_loss'])\n",
    "            history[f'{phase}_conf_loss'].append(metrics['conf_loss'])\n",
    "        \n",
    "        print(f\"\\nEpoch {epoch+1}/{num_epochs}:\")\n",
    "        print(f\"Train Loss: {train_metrics['total_loss']:.4f}\")\n",
    "        print(f\"Val Loss: {val_metrics['total_loss']:.4f}\")\n",
    "        \n",
    "        scheduler.step()\n",
    "        \n",
    "        if val_metrics['total_loss'] < best_val_loss:\n",
    "            best_val_loss = val_metrics['total_loss']\n",
    "            torch.save({\n",
    "                'epoch': epoch,\n",
    "                'model_state_dict': model.state_dict(),\n",
    "                'optimizer_state_dict': optimizer.state_dict(),\n",
    "                'best_val_loss': best_val_loss,\n",
    "            }, 'best_model_v2.pth')\n",
    "            patience_counter = 0\n",
    "        else:\n",
    "            patience_counter += 1\n",
    "            if patience_counter >= patience:\n",
    "                print(\"Early stopping triggered\")\n",
    "                break\n",
    "    \n",
    "    return history\n"
   ]
  },
  {
   "cell_type": "markdown",
   "metadata": {},
   "source": [
    " ## 7. Enhanced Evaluation Functions"
   ]
  },
  {
   "cell_type": "code",
   "execution_count": null,
   "metadata": {},
   "outputs": [],
   "source": [
    "def evaluate_model_v2(model, test_loader, device, confidence_threshold=0.7):\n",
    "    \"\"\"Enhanced evaluation with confidence filtering\"\"\"\n",
    "    model.eval()\n",
    "    results = {\n",
    "        'age_errors': [], 'gender_errors': [],\n",
    "        'age_conf': [], 'gender_conf': [],\n",
    "        'age_groups': [], 'predictions': []\n",
    "    }\n",
    "    \n",
    "    with torch.no_grad():\n",
    "        for images, ages, genders, _, age_groups in test_loader:\n",
    "            images = images.to(device)\n",
    "            ages = ages.to(device)\n",
    "            genders = genders.to(device)\n",
    "            \n",
    "            age_pred, gender_pred, age_conf, gender_conf = model(images, age_groups)\n",
    "            \n",
    "            age_pred = age_pred.squeeze().cpu() * 116.0\n",
    "            gender_pred = torch.argmax(gender_pred, dim=1).cpu()\n",
    "            age_conf = age_conf.squeeze().cpu()\n",
    "            gender_conf = gender_conf.squeeze().cpu()\n",
    "            \n",
    "            results['age_errors'].extend(\n",
    "                torch.abs(age_pred - ages.cpu() * 116.0).numpy()\n",
    "            )\n",
    "            results['gender_errors'].extend(\n",
    "                (gender_pred != genders.cpu()).numpy()\n",
    "            )\n",
    "            results['age_conf'].extend(age_conf.numpy())\n",
    "            results['gender_conf'].extend(gender_conf.numpy())\n",
    "            results['age_groups'].extend(age_groups)\n",
    "            \n",
    "            batch_results = {\n",
    "                'age_true': ages.cpu() * 116.0,\n",
    "                'age_pred': age_pred,\n",
    "                'gender_true': genders.cpu(),\n",
    "                'gender_pred': gender_pred,\n",
    "                'age_conf': age_conf,\n",
    "                'gender_conf': gender_conf,\n",
    "                'age_groups': age_groups\n",
    "            }\n",
    "            results['predictions'].append(batch_results)\n",
    "    \n",
    "    high_conf_age_mask = np.array(results['age_conf']) >= confidence_threshold\n",
    "    high_conf_gender_mask = np.array(results['gender_conf']) >= confidence_threshold\n",
    "    \n",
    "    metrics = {\n",
    "        'mae_age_all': np.mean(results['age_errors']),\n",
    "        'mae_age_confident': np.mean(np.array(results['age_errors'])[high_conf_age_mask]),\n",
    "        'gender_acc_all': 1 - np.mean(results['gender_errors']),\n",
    "        'gender_acc_confident': 1 - np.mean(np.array(results['gender_errors'])[high_conf_gender_mask]),\n",
    "        'age_conf_rate': np.mean(high_conf_age_mask),\n",
    "        'gender_conf_rate': np.mean(high_conf_gender_mask)\n",
    "    }\n",
    "    \n",
    "    return metrics, results\n",
    "\n",
    "def analyze_results_v2(results, df_test):\n",
    "    \"\"\"Enhanced analysis with confidence consideration\"\"\"\n",
    "    results_df = pd.DataFrame()\n",
    "    for batch in results['predictions']:\n",
    "        batch_df = pd.DataFrame({\n",
    "            'age_true': batch['age_true'],\n",
    "            'age_pred': batch['age_pred'],\n",
    "            'age_conf': batch['age_conf'],\n",
    "            'gender_true': batch['gender_true'],\n",
    "            'gender_pred': batch['gender_pred'],\n",
    "            'gender_conf': batch['gender_conf'],\n",
    "            'age_group': batch['age_groups']\n",
    "        })\n",
    "        results_df = pd.concat([results_df, batch_df], ignore_index=True)\n",
    "    \n",
    "    age_analysis = results_df.groupby('age_group').agg({\n",
    "        'age_true': 'count',\n",
    "        'age_pred': lambda x: np.mean(np.abs(x - results_df.loc[x.index, 'age_true'])),\n",
    "        'age_conf': 'mean',\n",
    "        'gender_pred': lambda x: np.mean(x == results_df.loc[x.index, 'gender_true']),\n",
    "        'gender_conf': 'mean'\n",
    "    }).round(3)\n",
    "    \n",
    "    conf_analysis = {\n",
    "        'age': {},\n",
    "        'gender': {}\n",
    "    }\n",
    "    \n",
    "    for conf_threshold in [0.5, 0.7, 0.9]:\n",
    "        high_conf_age = results_df[results_df['age_conf'] >= conf_threshold]\n",
    "        conf_analysis['age'][conf_threshold] = {\n",
    "            'mae': np.mean(np.abs(high_conf_age['age_pred'] - high_conf_age['age_true'])),\n",
    "            'coverage': len(high_conf_age) / len(results_df)\n",
    "        }\n",
    "        \n",
    "        high_conf_gender = results_df[results_df['gender_conf'] >= conf_threshold]\n",
    "        conf_analysis['gender'][conf_threshold] = {\n",
    "            'accuracy': np.mean(high_conf_gender['gender_pred'] == high_conf_gender['gender_true']),\n",
    "            'coverage': len(high_conf_gender) / len(results_df)\n",
    "        }\n",
    "    \n",
    "    return age_analysis, conf_analysis, results_df\n"
   ]
  },
  {
   "cell_type": "markdown",
   "metadata": {},
   "source": [
    " ## 8. Visualization Functions"
   ]
  },
  {
   "cell_type": "code",
   "execution_count": null,
   "metadata": {},
   "outputs": [],
   "source": [
    "def plot_training_history(history):\n",
    "    \"\"\"Plot detailed training history\"\"\"\n",
    "    plt.figure(figsize=(15, 10))\n",
    "    \n",
    "    plt.subplot(2, 2, 1)\n",
    "    plt.plot(history['train_loss'], label='Train')\n",
    "    plt.plot(history['val_loss'], label='Validation')\n",
    "    plt.title('Total Loss')\n",
    "    plt.xlabel('Epoch')\n",
    "    plt.ylabel('Loss')\n",
    "    plt.legend()\n",
    "    plt.grid(True)\n",
    "    \n",
    "    plt.subplot(2, 2, 2)\n",
    "    plt.plot(history['train_age_loss'], label='Train')\n",
    "    plt.plot(history['val_age_loss'], label='Validation')\n",
    "    plt.title('Age Loss')\n",
    "    plt.xlabel('Epoch')\n",
    "    plt.ylabel('Loss')\n",
    "    plt.legend()\n",
    "    plt.grid(True)\n",
    "    \n",
    "    plt.subplot(2, 2, 3)\n",
    "    plt.plot(history['train_gender_loss'], label='Train')\n",
    "    plt.plot(history['val_gender_loss'], label='Validation')\n",
    "    plt.title('Gender Loss')\n",
    "    plt.xlabel('Epoch')\n",
    "    plt.ylabel('Loss')\n",
    "    plt.legend()\n",
    "    plt.grid(True)\n",
    "    \n",
    "    plt.subplot(2, 2, 4)\n",
    "    plt.plot(history['train_conf_loss'], label='Train')\n",
    "    plt.plot(history['val_conf_loss'], label='Validation')\n",
    "    plt.title('Confidence Loss')\n",
    "    plt.xlabel('Epoch')\n",
    "    plt.ylabel('Loss')\n",
    "    plt.legend()\n",
    "    plt.grid(True)\n",
    "    \n",
    "    plt.tight_layout()\n",
    "    plt.show()\n",
    "\n",
    "def plot_confidence_analysis(conf_analysis, results_df):\n",
    "    \"\"\"Plot confidence analysis results\"\"\"\n",
    "    plt.figure(figsize=(15, 5))\n",
    "    \n",
    "    plt.subplot(1, 2, 1)\n",
    "    conf_thresholds = list(conf_analysis['age'].keys())\n",
    "    mae_values = [conf_analysis['age'][t]['mae'] for t in conf_thresholds]\n",
    "    coverage_values = [conf_analysis['age'][t]['coverage'] for t in conf_thresholds]\n",
    "    \n",
    "    ax1 = plt.gca()\n",
    "    ax2 = ax1.twinx()\n",
    "    \n",
    "    ax1.plot(conf_thresholds, mae_values, 'b-', label='MAE')\n",
    "    ax2.plot(conf_thresholds, coverage_values, 'r--', label='Coverage')\n",
    "    \n",
    "    ax1.set_xlabel('Confidence Threshold')\n",
    "    ax1.set_ylabel('MAE (years)', color='b')\n",
    "    ax2.set_ylabel('Coverage', color='r')\n",
    "    \n",
    "    plt.title('Age Prediction Confidence Analysis')\n",
    "    \n",
    "    plt.subplot(1, 2, 2)\n",
    "    acc_values = [conf_analysis['gender'][t]['accuracy'] for t in conf_thresholds]\n",
    "    coverage_values = [conf_analysis['gender'][t]['coverage'] for t in conf_thresholds]\n",
    "    \n",
    "    ax1 = plt.gca()\n",
    "    ax2 = ax1.twinx()\n",
    "    \n",
    "    ax1.plot(conf_thresholds, acc_values, 'b-', label='Accuracy')\n",
    "    ax2.plot(conf_thresholds, coverage_values, 'r--', label='Coverage')\n",
    "    \n",
    "    ax1.set_xlabel('Confidence Threshold')\n",
    "    ax1.set_ylabel('Accuracy', color='b')\n",
    "    ax2.set_ylabel('Coverage', color='r')\n",
    "    \n",
    "    plt.title('Gender Prediction Confidence Analysis')\n",
    "    \n",
    "    plt.tight_layout()\n",
    "    plt.show()\n"
   ]
  },
  {
   "cell_type": "markdown",
   "metadata": {},
   "source": [
    " ## 9. Main Execution"
   ]
  },
  {
   "cell_type": "code",
   "execution_count": null,
   "metadata": {},
   "outputs": [],
   "source": [
    "def main_v2():\n",
    "    DATA_DIR = r\"C:\\Users\\kresi\\OneDrive\\Desktop\\Turing college\\DL\\Age Gender\\data\\UTKFace\"\n",
    "    \n",
    "    print(\"Parsing dataset from images...\")\n",
    "    df = create_dataset_df(DATA_DIR)\n",
    "    print(f\"Found {len(df)} images\")\n",
    "    \n",
    "    df_train, df_temp = train_test_split(df, test_size=0.3, random_state=42)\n",
    "    df_val, df_test = train_test_split(df_temp, test_size=0.5, random_state=42)\n",
    "    \n",
    "    train_transform = transforms.Compose([\n",
    "        transforms.Resize((128, 128)),\n",
    "        transforms.RandomHorizontalFlip(),\n",
    "        transforms.RandomRotation(10),\n",
    "        transforms.ColorJitter(brightness=0.2, contrast=0.2),\n",
    "        transforms.ToTensor(),\n",
    "        transforms.Normalize(mean=[0.485, 0.456, 0.406],\n",
    "                           std=[0.229, 0.224, 0.225])\n",
    "    ])\n",
    "    \n",
    "    val_transform = transforms.Compose([\n",
    "        transforms.Resize((128, 128)),\n",
    "        transforms.ToTensor(),\n",
    "        transforms.Normalize(mean=[0.485, 0.456, 0.406],\n",
    "        std=[0.229, 0.224, 0.225])\n",
    "    ])\n",
    "    \n",
    "    train_dataset = EnhancedAgeGenderDataset(\n",
    "        df_train, \n",
    "        transform=train_transform, \n",
    "        augment=True,\n",
    "        synthetic_augment=True\n",
    "    )\n",
    "    val_dataset = EnhancedAgeGenderDataset(df_val, transform=val_transform)\n",
    "    test_dataset = EnhancedAgeGenderDataset(df_test, transform=val_transform)\n",
    "    \n",
    "    train_loader = DataLoader(\n",
    "        train_dataset, \n",
    "        batch_size=32, \n",
    "        shuffle=True,\n",
    "        num_workers=0,\n",
    "        pin_memory=True\n",
    "    )\n",
    "    val_loader = DataLoader(\n",
    "        val_dataset, \n",
    "        batch_size=32, \n",
    "        shuffle=False,\n",
    "        num_workers=0,\n",
    "        pin_memory=True\n",
    "    )\n",
    "    test_loader = DataLoader(\n",
    "        test_dataset, \n",
    "        batch_size=32, \n",
    "        shuffle=False,\n",
    "        num_workers=0,\n",
    "        pin_memory=True\n",
    "    )\n",
    "    \n",
    "    model = AgeGenderEnsemble().to(device)\n",
    "    criterion = EnhancedMultiTaskLoss(age_weight=1.0, gender_weight=1.0)\n",
    "    \n",
    "    print(\"\\nStarting training...\")\n",
    "    history = train_model_v2(model, train_loader, val_loader, criterion, device)\n",
    "    \n",
    "    plot_training_history(history)\n",
    "    \n",
    "    print(\"\\nEvaluating model...\")\n",
    "    metrics, results = evaluate_model_v2(model, test_loader, device)\n",
    "    \n",
    "    print(\"\\nOverall Metrics:\")\n",
    "    print(f\"Overall Age MAE: {metrics['mae_age_all']:.2f} years\")\n",
    "    print(f\"High-confidence Age MAE: {metrics['mae_age_confident']:.2f} years\")\n",
    "    print(f\"Overall Gender Accuracy: {metrics['gender_acc_all']:.2%}\")\n",
    "    print(f\"High-confidence Gender Accuracy: {metrics['gender_acc_confident']:.2%}\")\n",
    "    print(f\"Age Confidence Rate: {metrics['age_conf_rate']:.2%}\")\n",
    "    print(f\"Gender Confidence Rate: {metrics['gender_conf_rate']:.2%}\")\n",
    "    \n",
    "    print(\"\\nAnalyzing results...\")\n",
    "    age_analysis, conf_analysis, results_df = analyze_results_v2(results, df_test)\n",
    "    \n",
    "    print(\"\\nAge Group Analysis:\")\n",
    "    print(age_analysis)\n",
    "    \n",
    "    print(\"\\nConfidence Analysis:\")\n",
    "    for task in ['age', 'gender']:\n",
    "        print(f\"\\n{task.capitalize()} Prediction:\")\n",
    "        for threshold, metrics in conf_analysis[task].items():\n",
    "            print(f\"Threshold {threshold}:\")\n",
    "            for metric, value in metrics.items():\n",
    "                print(f\"  {metric}: {value:.3f}\")\n",
    "    \n",
    "    plot_confidence_analysis(conf_analysis, results_df)\n",
    "    \n",
    "    return model, metrics, age_analysis, conf_analysis\n"
   ]
  },
  {
   "cell_type": "markdown",
   "metadata": {},
   "source": [
    " ## 10. Run Analysis"
   ]
  },
  {
   "cell_type": "code",
   "execution_count": 10,
   "metadata": {},
   "outputs": [
    {
     "name": "stdout",
     "output_type": "stream",
     "text": [
      "Parsing dataset from images...\n",
      "Scanning directory: C:\\Users\\kresi\\OneDrive\\Desktop\\Turing college\\DL\\Age Gender\\data\\UTKFace\n",
      "Found 23708 images. Parsing metadata...\n"
     ]
    },
    {
     "name": "stderr",
     "output_type": "stream",
     "text": [
      "Parsing images: 100%|██████████| 23708/23708 [00:00<00:00, 370224.35it/s]"
     ]
    },
    {
     "name": "stdout",
     "output_type": "stream",
     "text": [
      "Error parsing C:\\Users\\kresi\\OneDrive\\Desktop\\Turing college\\DL\\Age Gender\\data\\UTKFace\\39_1_20170116174525125.jpg.chip.jpg: not enough values to unpack (expected 4, got 3)\n",
      "Error parsing C:\\Users\\kresi\\OneDrive\\Desktop\\Turing college\\DL\\Age Gender\\data\\UTKFace\\61_1_20170109142408075.jpg.chip.jpg: not enough values to unpack (expected 4, got 3)\n",
      "Error parsing C:\\Users\\kresi\\OneDrive\\Desktop\\Turing college\\DL\\Age Gender\\data\\UTKFace\\61_1_20170109150557335.jpg.chip.jpg: not enough values to unpack (expected 4, got 3)\n",
      "\n",
      "Dataset statistics:\n",
      "Total valid images: 23705\n",
      "Age range: 1 to 116 years\n",
      "Gender distribution: \n",
      "gender\n",
      "0    0.523\n",
      "1    0.477\n",
      "Name: proportion, dtype: float64\n",
      "Found 23705 images\n"
     ]
    },
    {
     "name": "stderr",
     "output_type": "stream",
     "text": [
      "\n",
      "C:\\Users\\kresi\\AppData\\Local\\Temp\\ipykernel_6848\\2125119442.py:47: UserWarning: Argument 'alpha_affine' is not valid and will be ignored.\n",
      "  A.ElasticTransform(\n"
     ]
    },
    {
     "name": "stdout",
     "output_type": "stream",
     "text": [
      "\n",
      "Starting training...\n"
     ]
    },
    {
     "name": "stderr",
     "output_type": "stream",
     "text": [
      "Epoch 1/30: 100%|██████████| 519/519 [02:40<00:00,  3.23it/s]\n"
     ]
    },
    {
     "name": "stdout",
     "output_type": "stream",
     "text": [
      "\n",
      "Epoch 1/30:\n",
      "Train Loss: 1.7312\n",
      "Val Loss: 1.6244\n"
     ]
    },
    {
     "name": "stderr",
     "output_type": "stream",
     "text": [
      "Epoch 2/30: 100%|██████████| 519/519 [02:39<00:00,  3.25it/s]\n"
     ]
    },
    {
     "name": "stdout",
     "output_type": "stream",
     "text": [
      "\n",
      "Epoch 2/30:\n",
      "Train Loss: 1.6369\n",
      "Val Loss: 1.5421\n"
     ]
    },
    {
     "name": "stderr",
     "output_type": "stream",
     "text": [
      "Epoch 3/30: 100%|██████████| 519/519 [02:29<00:00,  3.46it/s]\n"
     ]
    },
    {
     "name": "stdout",
     "output_type": "stream",
     "text": [
      "\n",
      "Epoch 3/30:\n",
      "Train Loss: 1.4998\n",
      "Val Loss: 1.3280\n"
     ]
    },
    {
     "name": "stderr",
     "output_type": "stream",
     "text": [
      "Epoch 4/30: 100%|██████████| 519/519 [02:31<00:00,  3.43it/s]\n"
     ]
    },
    {
     "name": "stdout",
     "output_type": "stream",
     "text": [
      "\n",
      "Epoch 4/30:\n",
      "Train Loss: 1.2758\n",
      "Val Loss: 1.1135\n"
     ]
    },
    {
     "name": "stderr",
     "output_type": "stream",
     "text": [
      "Epoch 5/30: 100%|██████████| 519/519 [02:35<00:00,  3.35it/s]\n"
     ]
    },
    {
     "name": "stdout",
     "output_type": "stream",
     "text": [
      "\n",
      "Epoch 5/30:\n",
      "Train Loss: 1.1594\n",
      "Val Loss: 0.9974\n"
     ]
    },
    {
     "name": "stderr",
     "output_type": "stream",
     "text": [
      "Epoch 6/30: 100%|██████████| 519/519 [02:22<00:00,  3.64it/s]\n"
     ]
    },
    {
     "name": "stdout",
     "output_type": "stream",
     "text": [
      "\n",
      "Epoch 6/30:\n",
      "Train Loss: 1.2747\n",
      "Val Loss: 1.0701\n"
     ]
    },
    {
     "name": "stderr",
     "output_type": "stream",
     "text": [
      "Epoch 7/30: 100%|██████████| 519/519 [02:23<00:00,  3.62it/s]\n"
     ]
    },
    {
     "name": "stdout",
     "output_type": "stream",
     "text": [
      "\n",
      "Epoch 7/30:\n",
      "Train Loss: 1.2176\n",
      "Val Loss: 1.0482\n"
     ]
    },
    {
     "name": "stderr",
     "output_type": "stream",
     "text": [
      "Epoch 8/30: 100%|██████████| 519/519 [02:23<00:00,  3.62it/s]\n"
     ]
    },
    {
     "name": "stdout",
     "output_type": "stream",
     "text": [
      "\n",
      "Epoch 8/30:\n",
      "Train Loss: 1.1434\n",
      "Val Loss: 1.0265\n"
     ]
    },
    {
     "name": "stderr",
     "output_type": "stream",
     "text": [
      "Epoch 9/30: 100%|██████████| 519/519 [02:22<00:00,  3.65it/s]\n"
     ]
    },
    {
     "name": "stdout",
     "output_type": "stream",
     "text": [
      "\n",
      "Epoch 9/30:\n",
      "Train Loss: 1.0977\n",
      "Val Loss: 1.0947\n"
     ]
    },
    {
     "name": "stderr",
     "output_type": "stream",
     "text": [
      "Epoch 10/30: 100%|██████████| 519/519 [02:21<00:00,  3.67it/s]\n"
     ]
    },
    {
     "name": "stdout",
     "output_type": "stream",
     "text": [
      "\n",
      "Epoch 10/30:\n",
      "Train Loss: 1.0476\n",
      "Val Loss: 0.9363\n"
     ]
    },
    {
     "name": "stderr",
     "output_type": "stream",
     "text": [
      "Epoch 11/30: 100%|██████████| 519/519 [02:23<00:00,  3.62it/s]\n"
     ]
    },
    {
     "name": "stdout",
     "output_type": "stream",
     "text": [
      "\n",
      "Epoch 11/30:\n",
      "Train Loss: 1.0025\n",
      "Val Loss: 0.8378\n"
     ]
    },
    {
     "name": "stderr",
     "output_type": "stream",
     "text": [
      "Epoch 12/30: 100%|██████████| 519/519 [02:22<00:00,  3.64it/s]\n"
     ]
    },
    {
     "name": "stdout",
     "output_type": "stream",
     "text": [
      "\n",
      "Epoch 12/30:\n",
      "Train Loss: 0.9580\n",
      "Val Loss: 0.8113\n"
     ]
    },
    {
     "name": "stderr",
     "output_type": "stream",
     "text": [
      "Epoch 13/30: 100%|██████████| 519/519 [02:23<00:00,  3.62it/s]\n"
     ]
    },
    {
     "name": "stdout",
     "output_type": "stream",
     "text": [
      "\n",
      "Epoch 13/30:\n",
      "Train Loss: 0.9132\n",
      "Val Loss: 0.7466\n"
     ]
    },
    {
     "name": "stderr",
     "output_type": "stream",
     "text": [
      "Epoch 14/30: 100%|██████████| 519/519 [02:24<00:00,  3.59it/s]\n"
     ]
    },
    {
     "name": "stdout",
     "output_type": "stream",
     "text": [
      "\n",
      "Epoch 14/30:\n",
      "Train Loss: 0.8830\n",
      "Val Loss: 0.7433\n"
     ]
    },
    {
     "name": "stderr",
     "output_type": "stream",
     "text": [
      "Epoch 15/30: 100%|██████████| 519/519 [02:23<00:00,  3.61it/s]\n"
     ]
    },
    {
     "name": "stdout",
     "output_type": "stream",
     "text": [
      "\n",
      "Epoch 15/30:\n",
      "Train Loss: 0.8676\n",
      "Val Loss: 0.7320\n"
     ]
    },
    {
     "name": "stderr",
     "output_type": "stream",
     "text": [
      "Epoch 16/30: 100%|██████████| 519/519 [02:24<00:00,  3.60it/s]\n"
     ]
    },
    {
     "name": "stdout",
     "output_type": "stream",
     "text": [
      "\n",
      "Epoch 16/30:\n",
      "Train Loss: 1.0233\n",
      "Val Loss: 0.8793\n"
     ]
    },
    {
     "name": "stderr",
     "output_type": "stream",
     "text": [
      "Epoch 17/30: 100%|██████████| 519/519 [02:24<00:00,  3.58it/s]\n"
     ]
    },
    {
     "name": "stdout",
     "output_type": "stream",
     "text": [
      "\n",
      "Epoch 17/30:\n",
      "Train Loss: 1.0096\n",
      "Val Loss: 0.8554\n"
     ]
    },
    {
     "name": "stderr",
     "output_type": "stream",
     "text": [
      "Epoch 18/30: 100%|██████████| 519/519 [02:22<00:00,  3.65it/s]\n"
     ]
    },
    {
     "name": "stdout",
     "output_type": "stream",
     "text": [
      "\n",
      "Epoch 18/30:\n",
      "Train Loss: 0.9850\n",
      "Val Loss: 1.1167\n"
     ]
    },
    {
     "name": "stderr",
     "output_type": "stream",
     "text": [
      "Epoch 19/30: 100%|██████████| 519/519 [02:22<00:00,  3.64it/s]\n"
     ]
    },
    {
     "name": "stdout",
     "output_type": "stream",
     "text": [
      "\n",
      "Epoch 19/30:\n",
      "Train Loss: 0.9595\n",
      "Val Loss: 0.7555\n"
     ]
    },
    {
     "name": "stderr",
     "output_type": "stream",
     "text": [
      "Epoch 20/30: 100%|██████████| 519/519 [02:22<00:00,  3.65it/s]\n"
     ]
    },
    {
     "name": "stdout",
     "output_type": "stream",
     "text": [
      "\n",
      "Epoch 20/30:\n",
      "Train Loss: 0.9261\n",
      "Val Loss: 0.8157\n"
     ]
    },
    {
     "name": "stderr",
     "output_type": "stream",
     "text": [
      "Epoch 21/30: 100%|██████████| 519/519 [02:22<00:00,  3.63it/s]\n"
     ]
    },
    {
     "name": "stdout",
     "output_type": "stream",
     "text": [
      "\n",
      "Epoch 21/30:\n",
      "Train Loss: 0.9102\n",
      "Val Loss: 0.8560\n"
     ]
    },
    {
     "name": "stderr",
     "output_type": "stream",
     "text": [
      "Epoch 22/30: 100%|██████████| 519/519 [02:23<00:00,  3.61it/s]\n"
     ]
    },
    {
     "name": "stdout",
     "output_type": "stream",
     "text": [
      "\n",
      "Epoch 22/30:\n",
      "Train Loss: 0.8762\n",
      "Val Loss: 0.7319\n"
     ]
    },
    {
     "name": "stderr",
     "output_type": "stream",
     "text": [
      "Epoch 23/30: 100%|██████████| 519/519 [02:22<00:00,  3.63it/s]\n"
     ]
    },
    {
     "name": "stdout",
     "output_type": "stream",
     "text": [
      "\n",
      "Epoch 23/30:\n",
      "Train Loss: 0.8429\n",
      "Val Loss: 0.7186\n"
     ]
    },
    {
     "name": "stderr",
     "output_type": "stream",
     "text": [
      "Epoch 24/30: 100%|██████████| 519/519 [02:23<00:00,  3.61it/s]\n"
     ]
    },
    {
     "name": "stdout",
     "output_type": "stream",
     "text": [
      "\n",
      "Epoch 24/30:\n",
      "Train Loss: 0.8531\n",
      "Val Loss: 0.7026\n"
     ]
    },
    {
     "name": "stderr",
     "output_type": "stream",
     "text": [
      "Epoch 25/30: 100%|██████████| 519/519 [02:24<00:00,  3.60it/s]\n"
     ]
    },
    {
     "name": "stdout",
     "output_type": "stream",
     "text": [
      "\n",
      "Epoch 25/30:\n",
      "Train Loss: 0.8027\n",
      "Val Loss: 1.0937\n"
     ]
    },
    {
     "name": "stderr",
     "output_type": "stream",
     "text": [
      "Epoch 26/30: 100%|██████████| 519/519 [02:23<00:00,  3.62it/s]\n"
     ]
    },
    {
     "name": "stdout",
     "output_type": "stream",
     "text": [
      "\n",
      "Epoch 26/30:\n",
      "Train Loss: 0.7884\n",
      "Val Loss: 0.7096\n"
     ]
    },
    {
     "name": "stderr",
     "output_type": "stream",
     "text": [
      "Epoch 27/30: 100%|██████████| 519/519 [02:22<00:00,  3.64it/s]\n"
     ]
    },
    {
     "name": "stdout",
     "output_type": "stream",
     "text": [
      "\n",
      "Epoch 27/30:\n",
      "Train Loss: 0.7476\n",
      "Val Loss: 0.6293\n"
     ]
    },
    {
     "name": "stderr",
     "output_type": "stream",
     "text": [
      "Epoch 28/30: 100%|██████████| 519/519 [02:24<00:00,  3.60it/s]\n"
     ]
    },
    {
     "name": "stdout",
     "output_type": "stream",
     "text": [
      "\n",
      "Epoch 28/30:\n",
      "Train Loss: 0.7229\n",
      "Val Loss: 0.6339\n"
     ]
    },
    {
     "name": "stderr",
     "output_type": "stream",
     "text": [
      "Epoch 29/30: 100%|██████████| 519/519 [02:22<00:00,  3.64it/s]\n"
     ]
    },
    {
     "name": "stdout",
     "output_type": "stream",
     "text": [
      "\n",
      "Epoch 29/30:\n",
      "Train Loss: 0.6904\n",
      "Val Loss: 0.6883\n"
     ]
    },
    {
     "name": "stderr",
     "output_type": "stream",
     "text": [
      "Epoch 30/30: 100%|██████████| 519/519 [02:23<00:00,  3.62it/s]\n"
     ]
    },
    {
     "name": "stdout",
     "output_type": "stream",
     "text": [
      "\n",
      "Epoch 30/30:\n",
      "Train Loss: 0.6951\n",
      "Val Loss: 0.5613\n"
     ]
    },
    {
     "data": {
      "image/png": "[encoded data removed]",
      "text/plain": [
       "<Figure size 1500x1000 with 4 Axes>"
      ]
     },
     "metadata": {},
     "output_type": "display_data"
    },
    {
     "name": "stdout",
     "output_type": "stream",
     "text": [
      "\n",
      "Evaluating model...\n",
      "\n",
      "Overall Metrics:\n",
      "Overall Age MAE: 4.34 years\n",
      "High-confidence Age MAE: 4.34 years\n",
      "Overall Gender Accuracy: 91.25%\n",
      "High-confidence Gender Accuracy: 95.01%\n",
      "Age Confidence Rate: 100.00%\n",
      "Gender Confidence Rate: 83.32%\n",
      "\n",
      "Analyzing results...\n",
      "\n",
      "Age Group Analysis:\n",
      "           age_true  age_pred  age_conf  gender_pred  gender_conf\n",
      "age_group                                                        \n",
      "adult          1763     3.982     0.998        0.951        0.905\n",
      "elderly         403     7.511     0.997        0.901        0.875\n",
      "middle          707     5.038     0.998        0.977        0.927\n",
      "young           683     2.675     0.998        0.753        0.774\n",
      "\n",
      "Confidence Analysis:\n",
      "\n",
      "Age Prediction:\n",
      "Threshold 0.5:\n",
      "  mae: 4.341\n",
      "  coverage: 1.000\n",
      "Threshold 0.7:\n",
      "  mae: 4.341\n",
      "  coverage: 1.000\n",
      "Threshold 0.9:\n",
      "  mae: 4.341\n",
      "  coverage: 1.000\n",
      "\n",
      "Gender Prediction:\n",
      "Threshold 0.5:\n",
      "  accuracy: 0.913\n",
      "  coverage: 1.000\n",
      "Threshold 0.7:\n",
      "  accuracy: 0.950\n",
      "  coverage: 0.833\n",
      "Threshold 0.9:\n",
      "  accuracy: 0.992\n",
      "  coverage: 0.568\n"
     ]
    },
    {
     "data": {
      "image/png": "[encoded data removed]",
      "text/plain": [
       "<Figure size 1500x500 with 4 Axes>"
      ]
     },
     "metadata": {},
     "output_type": "display_data"
    }
   ],
   "source": [
    "if __name__ == \"__main__\":\n",
    "    model, metrics, age_analysis, conf_analysis = main_v2()\n"
   ]
  },
  {
   "cell_type": "markdown",
   "metadata": {},
   "source": [
    "## Results\n",
    "\n",
    "1. Model Performance\n",
    "- Overall Age MAE of 4.34 years is quite good, though it varies significantly across age groups\n",
    "- Gender accuracy of 91.25% is solid, improving to 95% with high confidence predictions\n",
    "- The confidence mechanism seems to work well for gender (accuracy increases with confidence) but appears less effective for age (constant MAE across thresholds)\n",
    "\n",
    "2. Age Group Performance:\n",
    "- Middle-aged group shows best gender prediction (97.7% accuracy)\n",
    "- Young group shows worst gender prediction (75.3% accuracy)\n",
    "- Elderly group has highest age MAE (7.51 years)\n",
    "- Adult group (majority class) performs consistently well\n",
    "\n",
    "3. Notable Technical Issues:\n",
    "- Age confidence scores are uniformly high (>0.997) across all groups, suggesting potential overconfidence\n",
    "- Large performance disparity between age groups indicates potential representation issues\n",
    "- Age prediction error increases with age, showing systematic bias\n",
    "\n",
    "Based on the model iterations and results:\n",
    "\n",
    "## Key Improvements from v0 to v2:\n",
    "\n",
    "1. Architecture Enhancements:\n",
    "- Added attention mechanism\n",
    "- Introduced confidence estimation\n",
    "- Implemented specialized branches for age groups\n",
    "- Improved loss weighting with uncertainty\n",
    "\n",
    "2. Performance Gains:\n",
    "- Age MAE improved from 7.43 to 4.34 years\n",
    "- Gender accuracy improved from 91.59% to 95.01% (with high confidence)\n",
    "- More consistent performance across demographics"
   ]
  },
  {
   "cell_type": "markdown",
   "metadata": {},
   "source": [
    "1. **Critical Issues**:\n",
    "- **Elderly Bias**: Our model makes larger errors when predicting ages of elderly people. For example, if a 75-year-old person's image is input, the model might predict their age as 67 or 82 (7.51 years average error), while for adults around 30-40, it's much more accurate (only 3.98 years average error).\n",
    "- **Youth Accuracy**: The model struggles with gender prediction for young people. For example, if we input 100 images of children, it correctly identifies gender in only 75 cases, while for adults it's correct in 95 cases.\n",
    "\n",
    "2. **Technical Limitations**:\n",
    "- **Confidence Calibration**: The model says it's extremely confident (99.7%) about all its age predictions, even when it's wrong. This is dangerous because it means we can't trust the model's confidence scores to filter out uncertain predictions.\n",
    "\n",
    "3. **Approved Use Cases**:\n",
    "- **UI/UX Customization**: For example, adjusting font size or interface layout based on predicted age\n",
    "- **Content Recommendations**: Like suggesting age-appropriate content on streaming platforms\n",
    "- **Anonymous Demographics**: Understanding audience age/gender distribution at events without identifying individuals\n",
    "\n",
    "4. **Prohibited Use Cases**:\n",
    "- **Employment Screening**: The model should never be used to screen job candidates based on age/gender as it could lead to discrimination\n",
    "- **Identity Verification**: Don't use it for ID verification since errors could deny people access to important services\n",
    "- **Government Services**: Avoid using it for determining eligibility for benefits or services\n",
    "\n",
    "5. **Implementation Requirements**:\n",
    "- **Technical Controls**: Set minimum confidence thresholds (e.g., only accept gender predictions with >90% confidence)\n",
    "- **Process Requirements**: Always have a human review predictions in important cases and provide ways for people to challenge incorrect predictions\n",
    "\n",
    "6. **Mitigation Strategies**:\n",
    "- **Technical Solutions**: Modify the training process to focus more on accurate age prediction for elderly people\n",
    "- **Data Enhancement**: Collect more photos of elderly people and create synthetic data to balance the dataset\n",
    "- **Operational Controls**: Regularly test the model across different age groups and genders to catch any developing biases\n",
    "\n",
    "Here's a concrete example of how these guidelines would work in practice:\n",
    "\n",
    "✅ Acceptable Use:\n",
    "A museum wants to understand its visitor demographics. The model analyzes security camera footage to estimate visitor age/gender distributions anonymously. No individual decisions are made, and data is only used in aggregate.\n",
    "\n",
    "❌ Unacceptable Use:\n",
    "A bank wants to use the model to verify customer ages when opening accounts online. This would be prohibited because:\n",
    "1. The error rate for elderly people could unfairly deny them service\n",
    "2. The high confidence scores are unreliable\n",
    "3. It involves financial/legal decisions\n",
    "4. There's no clear appeal process"
   ]
  },
  {
   "cell_type": "markdown",
   "metadata": {},
   "source": [
    "## Suggestions for further improvement\n",
    "\n",
    "- Implement better confidence calibration for age prediction\n",
    "- Use age-specific models or branches\n",
    "- Enhance data augmentation for underrepresented groups"
   ]
  }
 ],
 "metadata": {
  "kernelspec": {
   "display_name": "Python 3",
   "language": "python",
   "name": "python3"
  },
  "language_info": {
   "codemirror_mode": {
    "name": "ipython",
    "version": 3
   },
   "file_extension": ".py",
   "mimetype": "text/x-python",
   "name": "python",
   "nbconvert_exporter": "python",
   "pygments_lexer": "ipython3",
   "version": "3.10.0"
  }
 },
 "nbformat": 4,
 "nbformat_minor": 2
}
